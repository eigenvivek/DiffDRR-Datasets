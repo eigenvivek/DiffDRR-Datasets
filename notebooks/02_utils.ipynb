{
 "cells": [
  {
   "cell_type": "raw",
   "id": "49b44c8a-e356-43db-813a-e728e4e30264",
   "metadata": {},
   "source": [
    "---\n",
    "title: utils\n",
    "description: Utility functions for I/O of 2D/3D datasets\n",
    "output-file: utils.html\n",
    "---"
   ]
  },
  {
   "cell_type": "code",
   "execution_count": null,
   "id": "63f7a0de-4f8a-45d1-8015-0f48b1f78f9e",
   "metadata": {},
   "outputs": [],
   "source": [
    "#| default_exp utils"
   ]
  },
  {
   "cell_type": "code",
   "execution_count": null,
   "id": "cfa58ce8-fb01-4d4a-8f31-0a186675f4fe",
   "metadata": {},
   "outputs": [],
   "source": [
    "#| hide\n",
    "from nbdev.showdoc import *"
   ]
  },
  {
   "cell_type": "code",
   "execution_count": null,
   "id": "11f31def-c54b-48a2-aa9b-2517555cca9b",
   "metadata": {},
   "outputs": [],
   "source": [
    "#| export\n",
    "import subprocess\n",
    "from pathlib import Path\n",
    "\n",
    "import h5py"
   ]
  },
  {
   "cell_type": "code",
   "execution_count": null,
   "id": "ec4af237-bf0c-4ae4-84ea-5e2921b714c9",
   "metadata": {},
   "outputs": [],
   "source": [
    "#| export\n",
    "def get_data_home() -> Path:\n",
    "    \"\"\"By default, datasets are saved in `~/user/diffdrr_data`.\"\"\"\n",
    "    data_home = data_home = Path(\"~/user/diffdrr_data\").expanduser()\n",
    "    data_home.mkdir(exist_ok=True)\n",
    "    return data_home"
   ]
  },
  {
   "cell_type": "code",
   "execution_count": null,
   "id": "1c63c628-e279-45a9-b5f5-a12097436e6e",
   "metadata": {},
   "outputs": [],
   "source": [
    "#| export\n",
    "def load_file(filename: str):\n",
    "    \"\"\"Internal function for loading datasets.\"\"\"\n",
    "\n",
    "    file_path = get_data_home() / filename\n",
    "\n",
    "    if filename == \"ipcai_2020_full_res_data.h5\":  # DeepFluoro dataset\n",
    "        try:\n",
    "            f = h5py.File(file_path)\n",
    "        except FileNotFoundError:\n",
    "            print(f\"Downloading DeepFluoro dataset (~2.5 GB) to {file_path}\")\n",
    "            download_deepfluoro()\n",
    "            f = h5py.File(file_path)\n",
    "    elif filename == \"ljubljana.h5\":\n",
    "        try:\n",
    "            f = h5py.File(file_path)\n",
    "        except FileNotFoundError:\n",
    "            print(f\"Downloading Ljubljana dataset (~1.0 GB) to {file_path}\")\n",
    "            download_ljubljana()\n",
    "            f = h5py.File(file_path)\n",
    "    else:\n",
    "        raise ValueError(f\"Unrecognized filename {filename}\")\n",
    "\n",
    "    return f"
   ]
  },
  {
   "cell_type": "code",
   "execution_count": null,
   "id": "99396416-4b6e-40aa-8519-94796f5d4ea7",
   "metadata": {},
   "outputs": [],
   "source": [
    "#| export\n",
    "def download_deepfluoro():\n",
    "    data_home = get_data_home()\n",
    "    download_link = \"http://archive.data.jhu.edu/api/access/datafile/:persistentId/?persistentId=doi:10.7281/T1/IFSXNV/EAN9GH\"\n",
    "    download_path = data_home / \"ipcai_2020_full_res_data.zip\"\n",
    "    subprocess.run(\n",
    "        f\"wget --no-check-certificate -O {download_path} {download_link}\".split(\" \")\n",
    "    )\n",
    "    subprocess.run(f\"unzip -o {download_path} -d {data_home}\".split(\" \"))\n",
    "    subprocess.run(f\"rm {download_path}\".split(\" \"))"
   ]
  },
  {
   "cell_type": "code",
   "execution_count": null,
   "id": "b2b76bd6-e807-4a2b-a7f4-a34540651ebe",
   "metadata": {},
   "outputs": [],
   "source": [
    "#| export\n",
    "def download_ljubljana():\n",
    "    data_home = get_data_home()\n",
    "    download_link = \"https://drive.usercontent.google.com/download?id=1x585pGLI8QGk21qZ2oGwwQ9LMJ09Tqrx&confirm=xxx\"\n",
    "    download_path = data_home / \"ljubljana.zip\"\n",
    "    subprocess.run(\n",
    "        f\"curl {download_link} -o {download_path} \".split(\" \")\n",
    "    )\n",
    "    subprocess.run(f\"unzip -o {download_path} -d {data_home}\".split(\" \"))\n",
    "    subprocess.run(f\"rm {download_path}\".split(\" \"))"
   ]
  },
  {
   "cell_type": "code",
   "execution_count": null,
   "id": "4ed8da5d-950a-49f4-bba3-9da9df31d6ee",
   "metadata": {},
   "outputs": [],
   "source": [
    "#| hide\n",
    "import nbdev\n",
    "\n",
    "nbdev.nbdev_export()"
   ]
  },
  {
   "cell_type": "code",
   "execution_count": null,
   "id": "61b28135-c7b4-4d32-9491-bd6b22355b02",
   "metadata": {},
   "outputs": [],
   "source": []
  }
 ],
 "metadata": {
  "kernelspec": {
   "display_name": "python3",
   "language": "python",
   "name": "python3"
  },
  "widgets": {
   "application/vnd.jupyter.widget-state+json": {
    "state": {},
    "version_major": 2,
    "version_minor": 0
   }
  }
 },
 "nbformat": 4,
 "nbformat_minor": 5
}
