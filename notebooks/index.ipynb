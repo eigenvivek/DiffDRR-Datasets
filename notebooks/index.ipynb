{
 "cells": [
  {
   "cell_type": "markdown",
   "metadata": {},
   "source": [
    "# DiffDRR Datasets\n",
    "\n",
    "> Open-source 2D/3D registration datasets and dataloaders for [`DiffDRR`](https://github.com/eigenvivek/DiffDRR/)"
   ]
  },
  {
   "cell_type": "markdown",
   "metadata": {},
   "source": [
    "[![CI](https://github.com/eigenvivek/DiffDRR-Datasets/actions/workflows/test.yaml/badge.svg)](https://github.com/eigenvivek/DiffDRR-Datasets/actions/workflows/test.yaml)\n",
    "[![Paper shield](https://img.shields.io/badge/arXiv-2208.12737-red.svg)](https://arxiv.org/abs/2208.12737)\n",
    "[![License: MIT](https://img.shields.io/badge/License-MIT-blue.svg)](LICENSE)\n",
    "[![Docs](https://github.com/eigenvivek/DiffDRR-Datasets/actions/workflows/deploy.yaml/badge.svg)](https://vivekg.dev/DiffDRR-Datasets/)\n",
    "[![Code style: black](https://img.shields.io/badge/Code%20style-black-black.svg)](https://github.com/psf/black)"
   ]
  },
  {
   "cell_type": "markdown",
   "metadata": {},
   "source": [
    "## Install\n",
    "\n",
    "```zsh\n",
    "pip install diffdrrdata\n",
    "```"
   ]
  },
  {
   "cell_type": "markdown",
   "metadata": {},
   "source": [
    "## DiffDRR\n",
    "\n",
    "`DiffDRR` is an differentiable X-ray renderer used for solving inverse problems in tomographic imaging.\n",
    "If you find [`DiffDRR`](https://github.com/eigenvivek/DiffDRR/) useful in your work, please cite our paper:\n",
    "\n",
    "```\n",
    "@inproceedings{gopalakrishnan2022fast,\n",
    "  title={Fast auto-differentiable digitally reconstructed radiographs for solving inverse problems in intraoperative imaging},\n",
    "  author={Gopalakrishnan, Vivek and Golland, Polina},\n",
    "  booktitle={Workshop on Clinical Image-Based Procedures},\n",
    "  pages={1--11},\n",
    "  year={2022},\n",
    "  organization={Springer}\n",
    "}\n",
    "```"
   ]
  },
  {
   "cell_type": "markdown",
   "metadata": {},
   "source": [
    "## Datasets\n",
    "\n",
    "We provide APIs to load the following open-source datasets into `DiffDRR`:\n",
    "\n",
    "| **Dataset**                                                                | **Anatomy**        | **\\# of Subjects** | **\\# of 2D Images** | **CTs** | **X-rays** | Fiducials |\n",
    "|----------------------------------------------------------------------------|--------------------|:------------------:|:-------------------:|:-------:|:----------:|:---------:|\n",
    "| [`DeepFluoro`](https://github.com/rg2/DeepFluoroLabeling-IPCAI2020)        | pelvis             |         6          |         366         |   ✅    |     ✅     |    ❌     |\n",
    "<!-- | [`Ljubljana`](https://lit.fe.uni-lj.si/en/research/resources/3D-2D-GS-CA/) | neurovasculature   |         10         |         20          |   ✅    |     ✅     |    ✅     | -->\n",
    "\n",
    "If you use any of these datasets, please cite the original papers.\n",
    "\n",
    "### `DeepFluoro`\n",
    "\n",
    "`DeepFluoro` ([**Grupp et al., 2020**](https://link.springer.com/article/10.1007/s11548-020-02162-7)) provides paired X-ray fluoroscopy images and CT volume of the pelvis. The data were collected from six cadaveric subjects at John Hopkins University. Ground truth camera poses were estimated with an offline registration process. A visualization of the X-ray / CT pairs in the `DeepFluoro` dataset is available [here](https://vivekg.dev/DiffDRR-Datasets/renders/deepfluoro.html).\n",
    "\n",
    "```\n",
    "@article{grupp2020automatic,\n",
    "  title={Automatic annotation of hip anatomy in fluoroscopy for robust and efficient 2D/3D registration},\n",
    "  author={Grupp, Robert B and Unberath, Mathias and Gao, Cong and Hegeman, Rachel A and Murphy, Ryan J and Alexander, Clayton P and Otake, Yoshito and McArthur, Benjamin A and Armand, Mehran and Taylor, Russell H},\n",
    "  journal={International journal of computer assisted radiology and surgery},\n",
    "  volume={15},\n",
    "  pages={759--769},\n",
    "  year={2020},\n",
    "  publisher={Springer}\n",
    "}\n",
    "```"
   ]
  },
  {
   "cell_type": "code",
   "execution_count": null,
   "metadata": {},
   "outputs": [],
   "source": []
  }
 ],
 "metadata": {
  "kernelspec": {
   "display_name": "python3",
   "language": "python",
   "name": "python3"
  },
  "widgets": {
   "application/vnd.jupyter.widget-state+json": {
    "state": {},
    "version_major": 2,
    "version_minor": 0
   }
  }
 },
 "nbformat": 4,
 "nbformat_minor": 4
}
